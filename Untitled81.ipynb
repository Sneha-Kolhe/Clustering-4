{
 "cells": [
  {
   "cell_type": "markdown",
   "id": "fbc2160a-8b5c-48c6-a782-09874da4faa7",
   "metadata": {},
   "source": [
    "## Q1. Explain the concept of homogeneity and completeness in clustering evaluation. How are they\n",
    "calculated?"
   ]
  },
  {
   "cell_type": "code",
   "execution_count": null,
   "id": "685b0645-d8cd-4af2-898f-e4ecd205a3c6",
   "metadata": {},
   "outputs": [],
   "source": [
    "Homogeneity:\n",
    "\n",
    "Homogeneity measures the extent to which each cluster contains only data points from a single class. In other words, it assesses whether all data points in a cluster belong to the same class.\n",
    "Formally, homogeneity is calculated as the conditional entropy of the class labels given the cluster assignments, normalized by the entropy of the class labels:\n",
    "Homogeneity\n",
    "=\n",
    "1\n",
    "−\n",
    "�\n",
    "(\n",
    "�\n",
    "∣\n",
    "�\n",
    ")\n",
    "�\n",
    "(\n",
    "�\n",
    ")\n",
    "Homogeneity=1− \n",
    "H(C)\n",
    "H(C∣K)\n",
    "​\n",
    " \n",
    "where:\n",
    "�\n",
    "(\n",
    "�\n",
    "∣\n",
    "�\n",
    ")\n",
    "H(C∣K) is the conditional entropy of the class labels given the cluster assignments.\n",
    "�\n",
    "(\n",
    "�\n",
    ")\n",
    "H(C) is the entropy of the class labels.\n",
    "Completeness:\n",
    "\n",
    "Completeness measures the extent to which all data points that are members of a given class are assigned to the same cluster. In other words, it assesses whether all data points belonging to the same class are grouped together in a single cluster.\n",
    "Formally, completeness is calculated as the conditional entropy of the cluster assignments given the class labels, normalized by the entropy of the cluster assignments:\n",
    "Completeness\n",
    "=\n",
    "1\n",
    "−\n",
    "�\n",
    "(\n",
    "�\n",
    "∣\n",
    "�\n",
    ")\n",
    "�\n",
    "(\n",
    "�\n",
    ")\n",
    "Completeness=1− \n",
    "H(K)\n",
    "H(K∣C)\n",
    "​\n",
    " \n",
    "where:\n",
    "�\n",
    "(\n",
    "�\n",
    "∣\n",
    "�\n",
    ")\n",
    "H(K∣C) is the conditional entropy of the cluster assignments given the class labels.\n",
    "�\n",
    "(\n",
    "�\n",
    ")\n",
    "H(K) is the entropy of the cluster assignments.\n",
    "Interpretation:\n",
    "\n",
    "A high homogeneity score indicates that each cluster contains data points from a single class, while a high completeness score indicates that all data points belonging to the same class are grouped together in the same cluster.\n",
    "Ideally, a good clustering result should have both high homogeneity and completeness scores, indicating that clusters are both internally homogeneous and complete with respect to the true class labels.\n",
    "Calculation:\n",
    "\n",
    "Both homogeneity and completeness scores range from 0 to 1, where a score closer to 1 indicates better performance.\n",
    "These scores can be computed using libraries such as scikit-learn in Python. In scikit-learn, you can use the homogeneity_score and completeness_score functions to calculate these metrics given the true class labels and the clustering results."
   ]
  },
  {
   "cell_type": "markdown",
   "id": "6ee9083b-5878-4e09-a522-ada0a796d6fd",
   "metadata": {},
   "source": [
    "## Q2. What is the V-measure in clustering evaluation? How is it related to homogeneity and completeness?"
   ]
  },
  {
   "cell_type": "code",
   "execution_count": null,
   "id": "603ff1f5-4c24-4676-8166-46f17f901533",
   "metadata": {},
   "outputs": [],
   "source": []
  }
 ],
 "metadata": {
  "kernelspec": {
   "display_name": "Python 3 (ipykernel)",
   "language": "python",
   "name": "python3"
  },
  "language_info": {
   "codemirror_mode": {
    "name": "ipython",
    "version": 3
   },
   "file_extension": ".py",
   "mimetype": "text/x-python",
   "name": "python",
   "nbconvert_exporter": "python",
   "pygments_lexer": "ipython3",
   "version": "3.10.8"
  }
 },
 "nbformat": 4,
 "nbformat_minor": 5
}
